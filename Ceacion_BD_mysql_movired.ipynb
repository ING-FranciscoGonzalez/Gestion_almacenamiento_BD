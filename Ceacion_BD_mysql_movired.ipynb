{
 "cells": [
  {
   "cell_type": "code",
   "execution_count": 7,
   "id": "e46d45cb",
   "metadata": {},
   "outputs": [],
   "source": [
    "import pandas as pd\n",
    "import sqlite3 as sql"
   ]
  },
  {
   "cell_type": "code",
   "execution_count": 8,
   "id": "601e3920",
   "metadata": {},
   "outputs": [],
   "source": [
    "def create_db(db):\n",
    "    \"\"\"\n",
    "        Función que crea una base de datos\n",
    "    \"\"\"\n",
    "    \n",
    "    conn = sql.connect(db)\n",
    "    conn.commit()"
   ]
  },
  {
   "cell_type": "code",
   "execution_count": 9,
   "id": "0fcd5cd9",
   "metadata": {},
   "outputs": [],
   "source": [
    "def table_db(db, query):\n",
    "    \"\"\"\n",
    "        Función que crea una tabla en la base de datos.\n",
    "    \"\"\"    \n",
    "    conn = sql.connect(db)\n",
    "    cursor = conn.cursor()\n",
    "    \n",
    "    cursor.execute(query)\n",
    "    \n",
    "    conn.commit()\n",
    "    conn.close()"
   ]
  },
  {
   "cell_type": "code",
   "execution_count": 10,
   "id": "6e797cb7",
   "metadata": {},
   "outputs": [],
   "source": [
    "def insertar_filas(db, query, data):\n",
    "    \"\"\"\n",
    "        Función que inserta registros a la tabla creada.\n",
    "    \"\"\"\n",
    "    \n",
    "    conn = sql.connect(db)\n",
    "    cursor = conn.cursor()\n",
    "    \n",
    "    cursor.executemany(query, data)\n",
    "    \n",
    "    conn.commit()\n",
    "    conn.close()    "
   ]
  },
  {
   "cell_type": "code",
   "execution_count": 11,
   "id": "d23704ee",
   "metadata": {},
   "outputs": [],
   "source": [
    "def selectSQL(db, query):\n",
    "    \"\"\"\n",
    "        Función que ejecuta querys en la base de datos.\n",
    "    \"\"\"\n",
    "    \n",
    "    conn = sql.connect(db)\n",
    "    cursor = conn.cursor()\n",
    "    \n",
    "    cursor.execute(query)\n",
    "    \n",
    "    datos = cursor.fetchall()\n",
    "    \n",
    "    conn.commit()\n",
    "    conn.close()\n",
    "    \n",
    "    return datos"
   ]
  },
  {
   "cell_type": "code",
   "execution_count": 12,
   "id": "3b7e8998",
   "metadata": {},
   "outputs": [],
   "source": [
    "# Se importa la base de datos:\n",
    "data_df = pd.read_csv(\"posibles_clientes.csv\", header = 0, sep = \",\")"
   ]
  },
  {
   "cell_type": "code",
   "execution_count": 13,
   "id": "469d1c98",
   "metadata": {},
   "outputs": [],
   "source": [
    "# Se transforma la base de datos de dataframe a lista\n",
    "data_list = data_df.values.tolist()"
   ]
  },
  {
   "cell_type": "code",
   "execution_count": 14,
   "id": "fcdfa013",
   "metadata": {},
   "outputs": [],
   "source": [
    "# Se crea la base de datos y la tabla:\n",
    "db = \"Movired.db\"\n",
    "\n",
    "query = \"\"\"CREATE TABLE posibles_usuarios(\n",
    "            documento INT,\n",
    "            nombre TEXT,\n",
    "            CELULAR INT,\n",
    "            TELEFONO INT);\"\"\"\n",
    "\n",
    "create_db(db)\n",
    "\n",
    "table_db(db, query)"
   ]
  },
  {
   "cell_type": "code",
   "execution_count": 15,
   "id": "246c3504",
   "metadata": {},
   "outputs": [],
   "source": [
    "# Se añaden los registros a la tabla creada:\n",
    "query_1 = f\"INSERT INTO posibles_usuarios VALUES(?,?,?,?);\"\n",
    "insertar_filas(db, query_1, data_list)"
   ]
  },
  {
   "cell_type": "code",
   "execution_count": 16,
   "id": "5defb0fd",
   "metadata": {},
   "outputs": [
    {
     "name": "stdout",
     "output_type": "stream",
     "text": [
      "Personas que posiblemente son mayores de 40 años: 891\n",
      "Personas que posiblemente tienen 40 años o menos: 51\n"
     ]
    }
   ],
   "source": [
    "# Se realizan consultas a la base de datos.\n",
    "\n",
    "query_2 = \"SELECT SUM(CASE WHEN LENGTH(documento) < 9 THEN 1 ELSE 0 END) AS personas_mas_40_anhos, \\\n",
    "SUM(CASE WHEN LENGTH(documento) >= 9 THEN 1 ELSE 0 END) AS personas_40_menos_anhos \\\n",
    "FROM posibles_usuarios;\"\n",
    "\n",
    "sql_result = selectSQL(db, query_2)\n",
    "\n",
    "print(f\"Personas que posiblemente son mayores de 40 años: {sql_result[0][0]}\")\n",
    "print(f\"Personas que posiblemente tienen 40 años o menos: {sql_result[0][1]}\")"
   ]
  },
  {
   "cell_type": "code",
   "execution_count": 17,
   "id": "7d74989d",
   "metadata": {},
   "outputs": [
    {
     "name": "stdout",
     "output_type": "stream",
     "text": [
      "[(72435, 'PACIFICO  CUBILLOS VILLAMARIN', 3166294231, 4022971), (72435, 'PACIFICO  CUBILLOS VILLAMARIN', 3177355230, 5548250)]\n",
      "[(72435, 'Francisco Javier G L', 3166294231, 4022971), (72435, 'Francisco Javier G L', 3177355230, 5548250)]\n"
     ]
    }
   ],
   "source": [
    "# Se realiza un update a la base de datos.\n",
    "\n",
    "num_doc = 72435\n",
    "nombre_update = \"Francisco Javier G L\"\n",
    "# ------------------------------------------------------------------------------------------------\n",
    "query_3 = f\"SELECT * FROM posibles_usuarios WHERE documento = {num_doc}\"\n",
    "sql_result = selectSQL(db, query_3)\n",
    "\n",
    "print(sql_result)\n",
    "# ------------------------------------------------------------------------------------------------\n",
    "query_4 = f\"UPDATE posibles_usuarios SET nombre = '{nombre_update}' WHERE documento = {num_doc}\"\n",
    "sql_result = selectSQL(db, query_4)\n",
    "# ------------------------------------------------------------------------------------------------\n",
    "query_5 = f\"SELECT * FROM posibles_usuarios WHERE documento = {num_doc}\"\n",
    "sql_result = selectSQL(db, query_5)\n",
    "\n",
    "print(sql_result)"
   ]
  },
  {
   "cell_type": "code",
   "execution_count": 18,
   "id": "3de25eb0",
   "metadata": {},
   "outputs": [
    {
     "name": "stdout",
     "output_type": "stream",
     "text": [
      "[(942,)]\n",
      "[(940,)]\n"
     ]
    }
   ],
   "source": [
    "# Se eliminan registros de la base de datos.\n",
    "num_doc = 72435\n",
    "# ------------------------------------------------------------------------------------------------\n",
    "query_6 = \"SELECT count(*) FROM posibles_usuarios\"\n",
    "sql_result = selectSQL(db, query_6)\n",
    "\n",
    "print(sql_result)\n",
    "# ------------------------------------------------------------------------------------------------\n",
    "query_7 = f\"DELETE FROM posibles_usuarios WHERE documento = {num_doc}\"\n",
    "sql_result = selectSQL(db, query_7)\n",
    "# ------------------------------------------------------------------------------------------------\n",
    "query_8 = \"SELECT count(*) FROM posibles_usuarios\"\n",
    "sql_result = selectSQL(db, query_8)\n",
    "\n",
    "print(sql_result)"
   ]
  },
  {
   "cell_type": "code",
   "execution_count": 19,
   "id": "d86e411c",
   "metadata": {},
   "outputs": [],
   "source": [
    "# Se elimina la tabla:\n",
    "query_9 = \"DROP TABLE posibles_usuarios\"\n",
    "sql_result = selectSQL(db, query_9)"
   ]
  },
  {
   "cell_type": "code",
   "execution_count": 20,
   "id": "f1d56c48",
   "metadata": {},
   "outputs": [],
   "source": [
    "# Truquito para crear archivo .sql\n",
    "import csv\n",
    "\n",
    "expresion = \"INSERT INTO movired.posibles_usuarios (documento, nombre, celular, telefono) VALUES (\"\n",
    "\n",
    "with open('posibles_clientes_query.csv', 'w', newline='') as student_file:\n",
    "    writer = csv.writer(student_file)\n",
    "    \n",
    "    for item in data_list:\n",
    "    \n",
    "        row = expresion + str(item[0]) + \",'\" + str(item[1]) + \"',\" + str(item[2]) + \",\" + str(item[3]) + \");\"\n",
    " \n",
    "        writer.writerow([row])"
   ]
  }
 ],
 "metadata": {
  "kernelspec": {
   "display_name": "Python 3 (ipykernel)",
   "language": "python",
   "name": "python3"
  },
  "language_info": {
   "codemirror_mode": {
    "name": "ipython",
    "version": 3
   },
   "file_extension": ".py",
   "mimetype": "text/x-python",
   "name": "python",
   "nbconvert_exporter": "python",
   "pygments_lexer": "ipython3",
   "version": "3.11.4"
  }
 },
 "nbformat": 4,
 "nbformat_minor": 5
}
